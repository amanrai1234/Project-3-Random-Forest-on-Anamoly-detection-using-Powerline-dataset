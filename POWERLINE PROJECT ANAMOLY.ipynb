{
 "cells": [
  {
   "cell_type": "code",
   "execution_count": 49,
   "id": "40dd9318",
   "metadata": {},
   "outputs": [],
   "source": [
    "import numpy as np\n",
    "import tensorflow as tf\n",
    "import pandas as pd\n",
    "from sklearn.ensemble import RandomForestClassifier\n",
    "from sklearn.model_selection import train_test_split\n",
    "import time\n",
    "from sklearn.preprocessing import StandardScaler\n",
    "from sklearn.mixture import GaussianMixture\n",
    "from sklearn.metrics import silhouette_score\n",
    "from sklearn.model_selection import StratifiedShuffleSplit, cross_val_predict\n",
    "from sklearn.svm import SVC\n",
    "import pandas as pd\n",
    "import numpy as np\n",
    "import seaborn as sns\n",
    "import matplotlib.pyplot as plt\n",
    "from sklearn.model_selection import StratifiedShuffleSplit, cross_val_predict\n",
    "from sklearn.preprocessing import StandardScaler\n",
    "from sklearn.svm import SVC\n",
    "from sklearn.metrics import accuracy_score, confusion_matrix\n",
    "from sklearn.tree import DecisionTreeClassifier,DecisionTreeRegressor\n",
    "from sklearn.ensemble import RandomForestClassifier\n",
    "from keras.models import Sequential\n",
    "from keras.layers import Dense, LeakyReLU\n",
    "import sklearn.cluster\n",
    "from numpy import quantile, where, random\n",
    "import matplotlib.pyplot as plt"
   ]
  },
  {
   "cell_type": "markdown",
   "id": "edbcc25b",
   "metadata": {},
   "source": [
    "# loading data, spliting, and training on svm"
   ]
  },
  {
   "cell_type": "code",
   "execution_count": 50,
   "id": "3dbb9fab",
   "metadata": {},
   "outputs": [
    {
     "name": "stdout",
     "output_type": "stream",
     "text": [
      "TRAIN: [5642 7676 3938 ... 5933 1426 5502] TEST: [ 8715  5432 10584 ... 11445  6784 11121]\n"
     ]
    },
    {
     "name": "stderr",
     "output_type": "stream",
     "text": [
      "C:\\Users\\Admin\\anaconda3\\lib\\site-packages\\sklearn\\utils\\validation.py:63: DataConversionWarning: A column-vector y was passed when a 1d array was expected. Please change the shape of y to (n_samples, ), for example using ravel().\n",
      "  return f(*args, **kwargs)\n"
     ]
    },
    {
     "name": "stdout",
     "output_type": "stream",
     "text": [
      "[[-0.46979973  0.10009242  0.459871    0.12701278 -1.80193373  1.71922075]\n",
      " [-0.34190004  0.09155696  0.31027008  0.26424305 -1.71438652  1.49236984]\n",
      " [-0.25685457  0.08496841  0.21187509  0.37696635 -1.64913814  1.31499272]\n",
      " ...\n",
      " [-0.19132295  0.17633503  0.01242719  0.29632386 -1.51753252  1.26017073]\n",
      " [-0.1902171   0.17355147  0.01434143  0.3231795  -1.52559472  1.24180512]\n",
      " [-0.18907368  0.1707642   0.01621315  0.34993927 -1.53325752  1.22312557]]\n"
     ]
    }
   ],
   "source": [
    "data = pd.read_csv(\"powerline_dataset.csv\")\n",
    "y=data[['Output (S)']]\n",
    "data = data[['Output (S)', 'Ia', 'Ib', 'Ic', 'Va', 'Vb', 'Vc']]\n",
    "X=data[['Ia', 'Ib', 'Ic', 'Va', 'Vb', 'Vc']]\n",
    "trr=data[['Output (S)']]\n",
    "tss=data[['Ia', 'Ib', 'Ic', 'Va', 'Vb', 'Vc']]\n",
    "X = X.to_numpy()\n",
    "y=y.to_numpy()\n",
    "\n",
    "\n",
    "\n",
    "scaler = StandardScaler()\n",
    "X=scaler.fit_transform(X)\n",
    "\n",
    "\n",
    "sss = StratifiedShuffleSplit(n_splits=1, test_size=0.1, random_state=42)\n",
    "sss.get_n_splits(X, y)\n",
    "\n",
    "#stratified split\n",
    "\n",
    "\n",
    "for train_index, test_index in sss.split(X, y):\n",
    "    print(\"TRAIN:\", train_index, \"TEST:\", test_index)\n",
    "    X_train, X_test = X[train_index], X[test_index]\n",
    "    y_train, y_test = y[train_index], y[test_index]\n",
    "    \n",
    "\n",
    "svm_clf = SVC() \n",
    "svm_clf.fit(X_train,y_train)\n",
    "\n",
    "\n",
    "\n",
    "\n",
    "print(X)\n"
   ]
  },
  {
   "cell_type": "markdown",
   "id": "9973add4",
   "metadata": {},
   "source": [
    "# evaluation starts heere"
   ]
  },
  {
   "cell_type": "code",
   "execution_count": 51,
   "id": "28366368",
   "metadata": {},
   "outputs": [
    {
     "data": {
      "image/png": "[encoded data removed]",
      "text/plain": [
       "<Figure size 432x288 with 2 Axes>"
      ]
     },
     "metadata": {
      "needs_background": "light"
     },
     "output_type": "display_data"
    }
   ],
   "source": [
    "y_pred = svm_clf.predict(X_test)\n",
    "y_test = y_test\n",
    "conf_mat = confusion_matrix(y_test, y_pred)\n",
    "lang = ['No Fault (0)', 'Fault (1)']\n",
    "ax = plt.axes()\n",
    "sns.heatmap(conf_mat, xticklabels=lang, yticklabels=lang)\n",
    "ax.set_title('Confusion Matrix')\n",
    "plt.xlabel('Predicted Label')\n",
    "plt.ylabel('True Label')\n",
    "plt.show()"
   ]
  },
  {
   "cell_type": "code",
   "execution_count": 52,
   "id": "d1d7a43f",
   "metadata": {},
   "outputs": [
    {
     "name": "stdout",
     "output_type": "stream",
     "text": [
      "SVM Classifier\n",
      "True Positives: 520\n",
      "True Negatives: 650\n",
      "False Positives: 1\n",
      "False Negatives: 30\n",
      "Precision: 0.9980806142034548\n",
      "Recall: 0.9454545454545454\n",
      "Accuracy: 0.974188176519567\n"
     ]
    }
   ],
   "source": [
    "true_positive = conf_mat[1, 1]\n",
    "true_negative = conf_mat[0, 0]\n",
    "false_positive = conf_mat[0, 1]\n",
    "false_negative = conf_mat[1, 0]\n",
    "accuracy = accuracy_score(y_pred, y_test)\n",
    "print(\"SVM Classifier\")\n",
    "print(\"True Positives:\", true_positive)\n",
    "print(\"True Negatives:\", true_negative)\n",
    "print(\"False Positives:\", false_positive)\n",
    "print(\"False Negatives:\", false_negative)\n",
    "print(\"Precision:\", true_positive/(true_positive+false_positive))\n",
    "print(\"Recall:\", true_positive/(true_positive+false_negative))\n",
    "print(\"Accuracy:\", accuracy)"
   ]
  },
  {
   "cell_type": "markdown",
   "id": "136616c7",
   "metadata": {},
   "source": [
    "# decision Tree implementaiton and evaluation continues"
   ]
  },
  {
   "cell_type": "code",
   "execution_count": 53,
   "id": "28957620",
   "metadata": {},
   "outputs": [
    {
     "data": {
      "text/plain": [
       "DecisionTreeClassifier(max_depth=14, random_state=42)"
      ]
     },
     "execution_count": 53,
     "metadata": {},
     "output_type": "execute_result"
    }
   ],
   "source": [
    "#decision tree classifier\n",
    "tree_clf = DecisionTreeClassifier(max_depth=14, random_state=42)\n",
    "tree_clf.fit(X_train, y_train)"
   ]
  },
  {
   "cell_type": "code",
   "execution_count": 54,
   "id": "f5375c63",
   "metadata": {},
   "outputs": [
    {
     "data": {
      "image/png": "[encoded data removed]",
      "text/plain": [
       "<Figure size 432x288 with 2 Axes>"
      ]
     },
     "metadata": {
      "needs_background": "light"
     },
     "output_type": "display_data"
    }
   ],
   "source": [
    "y_pred = tree_clf.predict(X_test)\n",
    "conf_mat = confusion_matrix(y_test, y_pred.round())\n",
    "lang = ['No Fault (0)', 'Fault (1)']\n",
    "ax = plt.axes()\n",
    "sns.heatmap(conf_mat, xticklabels=lang, yticklabels=lang)\n",
    "ax.set_title('Confusion Matrix')\n",
    "plt.xlabel('Predicted Label')\n",
    "plt.ylabel('True Label')\n",
    "plt.show()"
   ]
  },
  {
   "cell_type": "code",
   "execution_count": 55,
   "id": "2c2d8ae3",
   "metadata": {},
   "outputs": [
    {
     "name": "stdout",
     "output_type": "stream",
     "text": [
      " Decision Tree Classifier \n",
      "True Positives: 548\n",
      "True Negatives: 650\n",
      "False Positives: 1\n",
      "False Negatives: 2\n",
      "Precision: 0.9981785063752276\n",
      "Recall: 0.9963636363636363\n",
      "Accuracy: 0.9975020815986678\n"
     ]
    }
   ],
   "source": [
    "true_positive = conf_mat[1, 1]\n",
    "true_negative = conf_mat[0, 0]\n",
    "false_positive = conf_mat[0, 1]\n",
    "false_negative = conf_mat[1, 0]\n",
    "accuracy = accuracy_score(y_pred, y_test)\n",
    "print(\" Decision Tree Classifier \")\n",
    "print(\"True Positives:\", true_positive)\n",
    "print(\"True Negatives:\", true_negative)\n",
    "print(\"False Positives:\", false_positive)\n",
    "print(\"False Negatives:\", false_negative)\n",
    "print(\"Precision:\", true_positive/(true_positive+false_positive))\n",
    "print(\"Recall:\", true_positive/(true_positive+false_negative))\n",
    "print(\"Accuracy:\", accuracy)"
   ]
  },
  {
   "cell_type": "code",
   "execution_count": 56,
   "id": "41162275",
   "metadata": {},
   "outputs": [
    {
     "name": "stderr",
     "output_type": "stream",
     "text": [
      "<ipython-input-56-42c4a7591fa9>:2: DataConversionWarning: A column-vector y was passed when a 1d array was expected. Please change the shape of y to (n_samples,), for example using ravel().\n",
      "  forest_clf.fit(X_train, y_train)\n"
     ]
    },
    {
     "data": {
      "text/plain": [
       "RandomForestClassifier(random_state=42)"
      ]
     },
     "execution_count": 56,
     "metadata": {},
     "output_type": "execute_result"
    }
   ],
   "source": [
    "forest_clf = RandomForestClassifier(n_estimators=100, random_state=42)\n",
    "forest_clf.fit(X_train, y_train)"
   ]
  },
  {
   "cell_type": "code",
   "execution_count": 57,
   "id": "62439a5c",
   "metadata": {},
   "outputs": [
    {
     "data": {
      "image/png": "[encoded data removed]",
      "text/plain": [
       "<Figure size 432x288 with 2 Axes>"
      ]
     },
     "metadata": {
      "needs_background": "light"
     },
     "output_type": "display_data"
    }
   ],
   "source": [
    "y_pred = forest_clf.predict(X_test)\n",
    "conf_mat = confusion_matrix(y_test, y_pred)\n",
    "lang = ['No Fault (0)', 'Fault (1)']\n",
    "ax = plt.axes()\n",
    "sns.heatmap(conf_mat, xticklabels=lang, yticklabels=lang)\n",
    "ax.set_title('Confusion Matrix')\n",
    "plt.xlabel('Predicted Label')\n",
    "plt.ylabel('True Label')\n",
    "plt.show()"
   ]
  },
  {
   "cell_type": "code",
   "execution_count": 58,
   "id": "2811ff3a",
   "metadata": {},
   "outputs": [
    {
     "name": "stdout",
     "output_type": "stream",
     "text": [
      "Random Forest Classifier\n",
      "True Positives: 549\n",
      "True Negatives: 649\n",
      "False Positives: 2\n",
      "False Negatives: 1\n",
      "Precision: 0.9963702359346642\n",
      "Recall: 0.9981818181818182\n",
      "Accuracy: 0.9975020815986678\n"
     ]
    }
   ],
   "source": [
    "true_positive = conf_mat[1, 1]\n",
    "true_negative = conf_mat[0, 0]\n",
    "false_positive = conf_mat[0, 1]\n",
    "false_negative = conf_mat[1, 0]\n",
    "accuracy = accuracy_score(y_pred, y_test)\n",
    "print(\"Random Forest Classifier\")\n",
    "print(\"True Positives:\", true_positive)\n",
    "print(\"True Negatives:\", true_negative)\n",
    "print(\"False Positives:\", false_positive)\n",
    "print(\"False Negatives:\", false_negative)\n",
    "print(\"Precision:\", true_positive/(true_positive+false_positive))\n",
    "print(\"Recall:\", true_positive/(true_positive+false_negative))\n",
    "print(\"Accuracy:\", accuracy)"
   ]
  }
 ],
 "metadata": {
  "kernelspec": {
   "display_name": "Python 3",
   "language": "python",
   "name": "python3"
  },
  "language_info": {
   "codemirror_mode": {
    "name": "ipython",
    "version": 3
   },
   "file_extension": ".py",
   "mimetype": "text/x-python",
   "name": "python",
   "nbconvert_exporter": "python",
   "pygments_lexer": "ipython3",
   "version": "3.8.8"
  }
 },
 "nbformat": 4,
 "nbformat_minor": 5
}
